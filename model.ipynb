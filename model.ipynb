{
 "cells": [
  {
   "cell_type": "code",
   "execution_count": 30,
   "metadata": {},
   "outputs": [],
   "source": [
    "import pandas as pd\n",
    "import numpy as np\n",
    "import seaborn as sb\n",
    "import matplotlib.pyplot as plt \n",
    "from sklearn import linear_model\n",
    "from sklearn import metrics\n",
    "from sklearn.model_selection import train_test_split\n",
    "from sklearn.metrics import confusion_matrix\n",
    "from sklearn import svm,tree, ensemble,model_selection"
   ]
  },
  {
   "cell_type": "code",
   "execution_count": 2,
   "metadata": {},
   "outputs": [
    {
     "name": "stdout",
     "output_type": "stream",
     "text": [
      "(203, 3)\n"
     ]
    },
    {
     "data": {
      "text/html": [
       "<div>\n",
       "<style scoped>\n",
       "    .dataframe tbody tr th:only-of-type {\n",
       "        vertical-align: middle;\n",
       "    }\n",
       "\n",
       "    .dataframe tbody tr th {\n",
       "        vertical-align: top;\n",
       "    }\n",
       "\n",
       "    .dataframe thead th {\n",
       "        text-align: right;\n",
       "    }\n",
       "</style>\n",
       "<table border=\"1\" class=\"dataframe\">\n",
       "  <thead>\n",
       "    <tr style=\"text-align: right;\">\n",
       "      <th></th>\n",
       "      <th>0</th>\n",
       "      <th>1</th>\n",
       "      <th>2</th>\n",
       "    </tr>\n",
       "  </thead>\n",
       "  <tbody>\n",
       "    <tr>\n",
       "      <th>0</th>\n",
       "      <td>1.536129e+09</td>\n",
       "      <td>36.62</td>\n",
       "      <td>25.9</td>\n",
       "    </tr>\n",
       "    <tr>\n",
       "      <th>1</th>\n",
       "      <td>1.536129e+09</td>\n",
       "      <td>36.62</td>\n",
       "      <td>25.9</td>\n",
       "    </tr>\n",
       "    <tr>\n",
       "      <th>2</th>\n",
       "      <td>1.536129e+09</td>\n",
       "      <td>36.62</td>\n",
       "      <td>25.9</td>\n",
       "    </tr>\n",
       "    <tr>\n",
       "      <th>3</th>\n",
       "      <td>1.536129e+09</td>\n",
       "      <td>36.62</td>\n",
       "      <td>25.9</td>\n",
       "    </tr>\n",
       "    <tr>\n",
       "      <th>4</th>\n",
       "      <td>1.536129e+09</td>\n",
       "      <td>36.62</td>\n",
       "      <td>25.9</td>\n",
       "    </tr>\n",
       "  </tbody>\n",
       "</table>\n",
       "</div>"
      ],
      "text/plain": [
       "              0      1     2\n",
       "0  1.536129e+09  36.62  25.9\n",
       "1  1.536129e+09  36.62  25.9\n",
       "2  1.536129e+09  36.62  25.9\n",
       "3  1.536129e+09  36.62  25.9\n",
       "4  1.536129e+09  36.62  25.9"
      ]
     },
     "execution_count": 2,
     "metadata": {},
     "output_type": "execute_result"
    }
   ],
   "source": [
    "train_pc1=pd.read_csv(\"data/test_data1536128609.98_screen1.csv\",header=None)\n",
    "print(train_pc1.shape)\n",
    "train_pc1.head()"
   ]
  },
  {
   "cell_type": "code",
   "execution_count": 64,
   "metadata": {},
   "outputs": [
    {
     "name": "stdout",
     "output_type": "stream",
     "text": [
      "(291, 3)\n"
     ]
    },
    {
     "data": {
      "text/html": [
       "<div>\n",
       "<style scoped>\n",
       "    .dataframe tbody tr th:only-of-type {\n",
       "        vertical-align: middle;\n",
       "    }\n",
       "\n",
       "    .dataframe tbody tr th {\n",
       "        vertical-align: top;\n",
       "    }\n",
       "\n",
       "    .dataframe thead th {\n",
       "        text-align: right;\n",
       "    }\n",
       "</style>\n",
       "<table border=\"1\" class=\"dataframe\">\n",
       "  <thead>\n",
       "    <tr style=\"text-align: right;\">\n",
       "      <th></th>\n",
       "      <th>Timestamp</th>\n",
       "      <th>MaxCurrent</th>\n",
       "      <th>EffCurrent</th>\n",
       "      <th>Time Period</th>\n",
       "      <th>Standalone_Time</th>\n",
       "      <th>PC Screen1</th>\n",
       "    </tr>\n",
       "  </thead>\n",
       "  <tbody>\n",
       "    <tr>\n",
       "      <th>0</th>\n",
       "      <td>1.536129e+09</td>\n",
       "      <td>36.62</td>\n",
       "      <td>25.9</td>\n",
       "      <td>0</td>\n",
       "      <td>0</td>\n",
       "      <td>1</td>\n",
       "    </tr>\n",
       "    <tr>\n",
       "      <th>1</th>\n",
       "      <td>1.536129e+09</td>\n",
       "      <td>36.62</td>\n",
       "      <td>25.9</td>\n",
       "      <td>1.06</td>\n",
       "      <td>1.06</td>\n",
       "      <td>2</td>\n",
       "    </tr>\n",
       "    <tr>\n",
       "      <th>2</th>\n",
       "      <td>1.536129e+09</td>\n",
       "      <td>36.62</td>\n",
       "      <td>25.9</td>\n",
       "      <td>1.07</td>\n",
       "      <td>1.07</td>\n",
       "      <td>2</td>\n",
       "    </tr>\n",
       "    <tr>\n",
       "      <th>3</th>\n",
       "      <td>1.536129e+09</td>\n",
       "      <td>36.62</td>\n",
       "      <td>25.9</td>\n",
       "      <td>1.06</td>\n",
       "      <td>1.06</td>\n",
       "      <td>2</td>\n",
       "    </tr>\n",
       "    <tr>\n",
       "      <th>4</th>\n",
       "      <td>1.536129e+09</td>\n",
       "      <td>36.62</td>\n",
       "      <td>25.9</td>\n",
       "      <td>1.07</td>\n",
       "      <td>1.07</td>\n",
       "      <td>2</td>\n",
       "    </tr>\n",
       "  </tbody>\n",
       "</table>\n",
       "</div>"
      ],
      "text/plain": [
       "      Timestamp  MaxCurrent  EffCurrent Time Period Standalone_Time  \\\n",
       "0  1.536129e+09       36.62        25.9           0               0   \n",
       "1  1.536129e+09       36.62        25.9        1.06            1.06   \n",
       "2  1.536129e+09       36.62        25.9        1.07            1.07   \n",
       "3  1.536129e+09       36.62        25.9        1.06            1.06   \n",
       "4  1.536129e+09       36.62        25.9        1.07            1.07   \n",
       "\n",
       "   PC Screen1  \n",
       "0           1  \n",
       "1           2  \n",
       "2           2  \n",
       "3           2  \n",
       "4           2  "
      ]
     },
     "execution_count": 64,
     "metadata": {},
     "output_type": "execute_result"
    }
   ],
   "source": [
    "train_pc2=pd.read_csv(\"data/test_data1536128871.84_screen2.csv\",header=None)\n",
    "print(train_pc2.shape)\n",
    "train_pc1.head()"
   ]
  },
  {
   "cell_type": "code",
   "execution_count": 4,
   "metadata": {},
   "outputs": [
    {
     "name": "stdout",
     "output_type": "stream",
     "text": [
      "(269, 3)\n"
     ]
    },
    {
     "data": {
      "text/html": [
       "<div>\n",
       "<style scoped>\n",
       "    .dataframe tbody tr th:only-of-type {\n",
       "        vertical-align: middle;\n",
       "    }\n",
       "\n",
       "    .dataframe tbody tr th {\n",
       "        vertical-align: top;\n",
       "    }\n",
       "\n",
       "    .dataframe thead th {\n",
       "        text-align: right;\n",
       "    }\n",
       "</style>\n",
       "<table border=\"1\" class=\"dataframe\">\n",
       "  <thead>\n",
       "    <tr style=\"text-align: right;\">\n",
       "      <th></th>\n",
       "      <th>0</th>\n",
       "      <th>1</th>\n",
       "      <th>2</th>\n",
       "    </tr>\n",
       "  </thead>\n",
       "  <tbody>\n",
       "    <tr>\n",
       "      <th>0</th>\n",
       "      <td>1.536129e+09</td>\n",
       "      <td>0.0</td>\n",
       "      <td>0.0</td>\n",
       "    </tr>\n",
       "    <tr>\n",
       "      <th>1</th>\n",
       "      <td>1.536129e+09</td>\n",
       "      <td>0.0</td>\n",
       "      <td>0.0</td>\n",
       "    </tr>\n",
       "    <tr>\n",
       "      <th>2</th>\n",
       "      <td>1.536129e+09</td>\n",
       "      <td>0.0</td>\n",
       "      <td>0.0</td>\n",
       "    </tr>\n",
       "    <tr>\n",
       "      <th>3</th>\n",
       "      <td>1.536129e+09</td>\n",
       "      <td>0.0</td>\n",
       "      <td>0.0</td>\n",
       "    </tr>\n",
       "    <tr>\n",
       "      <th>4</th>\n",
       "      <td>1.536129e+09</td>\n",
       "      <td>0.0</td>\n",
       "      <td>0.0</td>\n",
       "    </tr>\n",
       "  </tbody>\n",
       "</table>\n",
       "</div>"
      ],
      "text/plain": [
       "              0    1    2\n",
       "0  1.536129e+09  0.0  0.0\n",
       "1  1.536129e+09  0.0  0.0\n",
       "2  1.536129e+09  0.0  0.0\n",
       "3  1.536129e+09  0.0  0.0\n",
       "4  1.536129e+09  0.0  0.0"
      ]
     },
     "execution_count": 4,
     "metadata": {},
     "output_type": "execute_result"
    }
   ],
   "source": [
    "train_sensor=pd.read_csv(\"data/test_data1536129261.77_device253.csv\",header=None)\n",
    "print(train_sensor.shape)\n",
    "train_sensor.head()"
   ]
  },
  {
   "cell_type": "code",
   "execution_count": 5,
   "metadata": {},
   "outputs": [
    {
     "name": "stdout",
     "output_type": "stream",
     "text": [
      "(2973, 3)\n"
     ]
    },
    {
     "data": {
      "text/html": [
       "<div>\n",
       "<style scoped>\n",
       "    .dataframe tbody tr th:only-of-type {\n",
       "        vertical-align: middle;\n",
       "    }\n",
       "\n",
       "    .dataframe tbody tr th {\n",
       "        vertical-align: top;\n",
       "    }\n",
       "\n",
       "    .dataframe thead th {\n",
       "        text-align: right;\n",
       "    }\n",
       "</style>\n",
       "<table border=\"1\" class=\"dataframe\">\n",
       "  <thead>\n",
       "    <tr style=\"text-align: right;\">\n",
       "      <th></th>\n",
       "      <th>0</th>\n",
       "      <th>1</th>\n",
       "      <th>2</th>\n",
       "    </tr>\n",
       "  </thead>\n",
       "  <tbody>\n",
       "    <tr>\n",
       "      <th>0</th>\n",
       "      <td>1.536130e+09</td>\n",
       "      <td>24.41</td>\n",
       "      <td>17.3</td>\n",
       "    </tr>\n",
       "    <tr>\n",
       "      <th>1</th>\n",
       "      <td>1.536130e+09</td>\n",
       "      <td>12.21</td>\n",
       "      <td>8.6</td>\n",
       "    </tr>\n",
       "    <tr>\n",
       "      <th>2</th>\n",
       "      <td>1.536130e+09</td>\n",
       "      <td>36.62</td>\n",
       "      <td>25.9</td>\n",
       "    </tr>\n",
       "    <tr>\n",
       "      <th>3</th>\n",
       "      <td>1.536130e+09</td>\n",
       "      <td>24.41</td>\n",
       "      <td>17.3</td>\n",
       "    </tr>\n",
       "    <tr>\n",
       "      <th>4</th>\n",
       "      <td>1.536130e+09</td>\n",
       "      <td>36.62</td>\n",
       "      <td>25.9</td>\n",
       "    </tr>\n",
       "  </tbody>\n",
       "</table>\n",
       "</div>"
      ],
      "text/plain": [
       "              0      1     2\n",
       "0  1.536130e+09  24.41  17.3\n",
       "1  1.536130e+09  12.21   8.6\n",
       "2  1.536130e+09  36.62  25.9\n",
       "3  1.536130e+09  24.41  17.3\n",
       "4  1.536130e+09  36.62  25.9"
      ]
     },
     "execution_count": 5,
     "metadata": {},
     "output_type": "execute_result"
    }
   ],
   "source": [
    "test=pd.read_csv(\"data/test_data1536129670.55_main.csv\",header=None)\n",
    "print(test.shape)\n",
    "test.head()"
   ]
  },
  {
   "cell_type": "markdown",
   "metadata": {},
   "source": [
    "# Rename Columns\n",
    "##### The columns are assigned values - Timestamp, MaxCurrent, EffCurrent. These are in-line with the specifications available in the question. "
   ]
  },
  {
   "cell_type": "code",
   "execution_count": 65,
   "metadata": {},
   "outputs": [],
   "source": [
    "train_pc1.rename(columns={0:\"Timestamp\",1:\"MaxCurrent\",2:\"EffCurrent\"},inplace=True)\n",
    "train_pc2.rename(columns={0:\"Timestamp\",1:\"MaxCurrent\",2:\"EffCurrent\"},inplace=True)\n",
    "train_sensor.rename(columns={0:\"Timestamp\",1:\"MaxCurrent\",2:\"EffCurrent\"},inplace=True)\n",
    "test.rename(columns={0:\"Timestamp\",1:\"MaxCurrent\",2:\"EffCurrent\"},inplace=True)"
   ]
  },
  {
   "cell_type": "markdown",
   "metadata": {},
   "source": [
    "# Analysing the states of the Devices"
   ]
  },
  {
   "cell_type": "markdown",
   "metadata": {},
   "source": [
    "There are two types of devices. The states of the devices can be observed by the line plots below:\n",
    "1. PC 1 & 2 have 3 states: \n",
    "   >a. ON- when there is a sudden spike (represented by state 1)<br> \n",
    "   >b. IDLE- when there is a stable mode (represented by state 2) <br>\n",
    "   >c. OFF- when there is no current flow, i.e. Effective current=0 (represented by state 0) \n",
    "2. Temperature Sensor- has 2 states-\n",
    "   >a. ON- when there is a current flow (represented by state 1) <br>\n",
    "   >b. OFF- when there is no current flow, i.e. Effective Current or RMS=0 (represented by state 0)\n"
   ]
  },
  {
   "cell_type": "code",
   "execution_count": 7,
   "metadata": {},
   "outputs": [
    {
     "data": {
      "image/png": "[encoded data removed]",
      "text/plain": [
       "<Figure size 432x288 with 1 Axes>"
      ]
     },
     "metadata": {},
     "output_type": "display_data"
    },
    {
     "data": {
      "image/png": "[encoded data removed]",
      "text/plain": [
       "<Figure size 432x288 with 1 Axes>"
      ]
     },
     "metadata": {},
     "output_type": "display_data"
    },
    {
     "data": {
      "image/png": "[encoded data removed]",
      "text/plain": [
       "<Figure size 432x288 with 1 Axes>"
      ]
     },
     "metadata": {},
     "output_type": "display_data"
    }
   ],
   "source": [
    "linesPC1 = train_pc1.plot.line(x='Timestamp', y='EffCurrent',title='PC Screen 1')\n",
    "linesPC2 = train_pc2.plot.line(x='Timestamp', y='EffCurrent',title='PC Screen 2')\n",
    "linesSensor = train_sensor.plot.line(x='Timestamp', y='EffCurrent',title='Sensor')"
   ]
  },
  {
   "cell_type": "code",
   "execution_count": 8,
   "metadata": {},
   "outputs": [
    {
     "name": "stderr",
     "output_type": "stream",
     "text": [
      "C:\\ProgramData\\Anaconda3\\lib\\site-packages\\ipykernel_launcher.py:5: SettingWithCopyWarning: \n",
      "A value is trying to be set on a copy of a slice from a DataFrame\n",
      "\n",
      "See the caveats in the documentation: http://pandas.pydata.org/pandas-docs/stable/indexing.html#indexing-view-versus-copy\n",
      "  \"\"\"\n",
      "C:\\ProgramData\\Anaconda3\\lib\\site-packages\\ipykernel_launcher.py:6: SettingWithCopyWarning: \n",
      "A value is trying to be set on a copy of a slice from a DataFrame\n",
      "\n",
      "See the caveats in the documentation: http://pandas.pydata.org/pandas-docs/stable/indexing.html#indexing-view-versus-copy\n",
      "  \n",
      "C:\\ProgramData\\Anaconda3\\lib\\site-packages\\ipykernel_launcher.py:8: SettingWithCopyWarning: \n",
      "A value is trying to be set on a copy of a slice from a DataFrame\n",
      "\n",
      "See the caveats in the documentation: http://pandas.pydata.org/pandas-docs/stable/indexing.html#indexing-view-versus-copy\n",
      "  \n",
      "C:\\ProgramData\\Anaconda3\\lib\\site-packages\\ipykernel_launcher.py:9: SettingWithCopyWarning: \n",
      "A value is trying to be set on a copy of a slice from a DataFrame\n",
      "\n",
      "See the caveats in the documentation: http://pandas.pydata.org/pandas-docs/stable/indexing.html#indexing-view-versus-copy\n",
      "  if __name__ == '__main__':\n",
      "C:\\ProgramData\\Anaconda3\\lib\\site-packages\\ipykernel_launcher.py:11: SettingWithCopyWarning: \n",
      "A value is trying to be set on a copy of a slice from a DataFrame\n",
      "\n",
      "See the caveats in the documentation: http://pandas.pydata.org/pandas-docs/stable/indexing.html#indexing-view-versus-copy\n",
      "  # This is added back by InteractiveShellApp.init_path()\n",
      "C:\\ProgramData\\Anaconda3\\lib\\site-packages\\ipykernel_launcher.py:12: SettingWithCopyWarning: \n",
      "A value is trying to be set on a copy of a slice from a DataFrame\n",
      "\n",
      "See the caveats in the documentation: http://pandas.pydata.org/pandas-docs/stable/indexing.html#indexing-view-versus-copy\n",
      "  if sys.path[0] == '':\n"
     ]
    },
    {
     "data": {
      "text/html": [
       "<div>\n",
       "<style scoped>\n",
       "    .dataframe tbody tr th:only-of-type {\n",
       "        vertical-align: middle;\n",
       "    }\n",
       "\n",
       "    .dataframe tbody tr th {\n",
       "        vertical-align: top;\n",
       "    }\n",
       "\n",
       "    .dataframe thead th {\n",
       "        text-align: right;\n",
       "    }\n",
       "</style>\n",
       "<table border=\"1\" class=\"dataframe\">\n",
       "  <thead>\n",
       "    <tr style=\"text-align: right;\">\n",
       "      <th></th>\n",
       "      <th>Timestamp</th>\n",
       "      <th>MaxCurrent</th>\n",
       "      <th>EffCurrent</th>\n",
       "      <th>Time Period</th>\n",
       "      <th>Standalone_Time</th>\n",
       "      <th>PC Screen1</th>\n",
       "    </tr>\n",
       "  </thead>\n",
       "  <tbody>\n",
       "    <tr>\n",
       "      <th>0</th>\n",
       "      <td>1.536129e+09</td>\n",
       "      <td>36.62</td>\n",
       "      <td>25.9</td>\n",
       "      <td>0</td>\n",
       "      <td>0</td>\n",
       "      <td>1</td>\n",
       "    </tr>\n",
       "    <tr>\n",
       "      <th>1</th>\n",
       "      <td>1.536129e+09</td>\n",
       "      <td>36.62</td>\n",
       "      <td>25.9</td>\n",
       "      <td>1.06</td>\n",
       "      <td>1.06</td>\n",
       "      <td>2</td>\n",
       "    </tr>\n",
       "    <tr>\n",
       "      <th>2</th>\n",
       "      <td>1.536129e+09</td>\n",
       "      <td>36.62</td>\n",
       "      <td>25.9</td>\n",
       "      <td>1.07</td>\n",
       "      <td>1.07</td>\n",
       "      <td>2</td>\n",
       "    </tr>\n",
       "    <tr>\n",
       "      <th>3</th>\n",
       "      <td>1.536129e+09</td>\n",
       "      <td>36.62</td>\n",
       "      <td>25.9</td>\n",
       "      <td>1.06</td>\n",
       "      <td>1.06</td>\n",
       "      <td>2</td>\n",
       "    </tr>\n",
       "    <tr>\n",
       "      <th>4</th>\n",
       "      <td>1.536129e+09</td>\n",
       "      <td>36.62</td>\n",
       "      <td>25.9</td>\n",
       "      <td>1.07</td>\n",
       "      <td>1.07</td>\n",
       "      <td>2</td>\n",
       "    </tr>\n",
       "  </tbody>\n",
       "</table>\n",
       "</div>"
      ],
      "text/plain": [
       "      Timestamp  MaxCurrent  EffCurrent Time Period Standalone_Time  \\\n",
       "0  1.536129e+09       36.62        25.9           0               0   \n",
       "1  1.536129e+09       36.62        25.9        1.06            1.06   \n",
       "2  1.536129e+09       36.62        25.9        1.07            1.07   \n",
       "3  1.536129e+09       36.62        25.9        1.06            1.06   \n",
       "4  1.536129e+09       36.62        25.9        1.07            1.07   \n",
       "\n",
       "   PC Screen1  \n",
       "0           1  \n",
       "1           2  \n",
       "2           2  \n",
       "3           2  \n",
       "4           2  "
      ]
     },
     "execution_count": 8,
     "metadata": {},
     "output_type": "execute_result"
    }
   ],
   "source": [
    "train_pc1['Time Period']=''\n",
    "train_pc1['Standalone_Time']=''\n",
    "for index,row in train_pc1.iterrows():\n",
    "    if(index==0):\n",
    "        train_pc1['Standalone_Time'][0]=0\n",
    "        train_pc1['Time Period'][0]=0\n",
    "    elif(train_pc1['EffCurrent'][index-1]==train_pc1['EffCurrent'][index]):\n",
    "        train_pc1['Standalone_Time'][index]=round(train_pc1['Timestamp'][index]-train_pc1['Timestamp'][index-1],2)\n",
    "        train_pc1['Time Period'][index]=round(train_pc1['Timestamp'][index]-train_pc1['Timestamp'][index-1],2)\n",
    "    else:\n",
    "        train_pc1['Standalone_Time'][index]=0\n",
    "        train_pc1['Time Period'][index]=round(train_pc1['Timestamp'][index]-train_pc1['Timestamp'][index-1],2)\n",
    "\n",
    "train_pc1['PC Screen1']=''\n",
    "train_pc1['EffCurrent_Diff'] = train_pc1['EffCurrent'].diff()\n",
    "train_pc1.loc[(train_pc1['EffCurrent_Diff']== 0), 'PC Screen1'] = 2\n",
    "train_pc1.loc[(train_pc1['EffCurrent_Diff']!= 0), 'PC Screen1'] = 1\n",
    "train_pc1.loc[(train_pc1['EffCurrent'] == 0), 'PC Screen1'] = 0\n",
    "train_pc1.drop('EffCurrent_Diff',axis=1,inplace=True)\n",
    "train_pc1.head()"
   ]
  },
  {
   "cell_type": "code",
   "execution_count": 66,
   "metadata": {},
   "outputs": [
    {
     "name": "stderr",
     "output_type": "stream",
     "text": [
      "C:\\ProgramData\\Anaconda3\\lib\\site-packages\\ipykernel_launcher.py:5: SettingWithCopyWarning: \n",
      "A value is trying to be set on a copy of a slice from a DataFrame\n",
      "\n",
      "See the caveats in the documentation: http://pandas.pydata.org/pandas-docs/stable/indexing.html#indexing-view-versus-copy\n",
      "  \"\"\"\n",
      "C:\\ProgramData\\Anaconda3\\lib\\site-packages\\ipykernel_launcher.py:6: SettingWithCopyWarning: \n",
      "A value is trying to be set on a copy of a slice from a DataFrame\n",
      "\n",
      "See the caveats in the documentation: http://pandas.pydata.org/pandas-docs/stable/indexing.html#indexing-view-versus-copy\n",
      "  \n",
      "C:\\ProgramData\\Anaconda3\\lib\\site-packages\\ipykernel_launcher.py:11: SettingWithCopyWarning: \n",
      "A value is trying to be set on a copy of a slice from a DataFrame\n",
      "\n",
      "See the caveats in the documentation: http://pandas.pydata.org/pandas-docs/stable/indexing.html#indexing-view-versus-copy\n",
      "  # This is added back by InteractiveShellApp.init_path()\n",
      "C:\\ProgramData\\Anaconda3\\lib\\site-packages\\ipykernel_launcher.py:12: SettingWithCopyWarning: \n",
      "A value is trying to be set on a copy of a slice from a DataFrame\n",
      "\n",
      "See the caveats in the documentation: http://pandas.pydata.org/pandas-docs/stable/indexing.html#indexing-view-versus-copy\n",
      "  if sys.path[0] == '':\n",
      "C:\\ProgramData\\Anaconda3\\lib\\site-packages\\ipykernel_launcher.py:8: SettingWithCopyWarning: \n",
      "A value is trying to be set on a copy of a slice from a DataFrame\n",
      "\n",
      "See the caveats in the documentation: http://pandas.pydata.org/pandas-docs/stable/indexing.html#indexing-view-versus-copy\n",
      "  \n",
      "C:\\ProgramData\\Anaconda3\\lib\\site-packages\\ipykernel_launcher.py:9: SettingWithCopyWarning: \n",
      "A value is trying to be set on a copy of a slice from a DataFrame\n",
      "\n",
      "See the caveats in the documentation: http://pandas.pydata.org/pandas-docs/stable/indexing.html#indexing-view-versus-copy\n",
      "  if __name__ == '__main__':\n"
     ]
    },
    {
     "data": {
      "text/html": [
       "<div>\n",
       "<style scoped>\n",
       "    .dataframe tbody tr th:only-of-type {\n",
       "        vertical-align: middle;\n",
       "    }\n",
       "\n",
       "    .dataframe tbody tr th {\n",
       "        vertical-align: top;\n",
       "    }\n",
       "\n",
       "    .dataframe thead th {\n",
       "        text-align: right;\n",
       "    }\n",
       "</style>\n",
       "<table border=\"1\" class=\"dataframe\">\n",
       "  <thead>\n",
       "    <tr style=\"text-align: right;\">\n",
       "      <th></th>\n",
       "      <th>Timestamp</th>\n",
       "      <th>MaxCurrent</th>\n",
       "      <th>EffCurrent</th>\n",
       "      <th>Time Period</th>\n",
       "      <th>Standalone_Time</th>\n",
       "      <th>PC Screen2</th>\n",
       "    </tr>\n",
       "  </thead>\n",
       "  <tbody>\n",
       "    <tr>\n",
       "      <th>0</th>\n",
       "      <td>1.536129e+09</td>\n",
       "      <td>36.62</td>\n",
       "      <td>25.9</td>\n",
       "      <td>0</td>\n",
       "      <td>0</td>\n",
       "      <td>1</td>\n",
       "    </tr>\n",
       "    <tr>\n",
       "      <th>1</th>\n",
       "      <td>1.536129e+09</td>\n",
       "      <td>24.41</td>\n",
       "      <td>17.3</td>\n",
       "      <td>1.07</td>\n",
       "      <td>0</td>\n",
       "      <td>1</td>\n",
       "    </tr>\n",
       "    <tr>\n",
       "      <th>2</th>\n",
       "      <td>1.536129e+09</td>\n",
       "      <td>24.41</td>\n",
       "      <td>17.3</td>\n",
       "      <td>1.07</td>\n",
       "      <td>1.07</td>\n",
       "      <td>2</td>\n",
       "    </tr>\n",
       "    <tr>\n",
       "      <th>3</th>\n",
       "      <td>1.536129e+09</td>\n",
       "      <td>24.41</td>\n",
       "      <td>17.3</td>\n",
       "      <td>1.06</td>\n",
       "      <td>1.06</td>\n",
       "      <td>2</td>\n",
       "    </tr>\n",
       "    <tr>\n",
       "      <th>4</th>\n",
       "      <td>1.536129e+09</td>\n",
       "      <td>24.41</td>\n",
       "      <td>17.3</td>\n",
       "      <td>1.07</td>\n",
       "      <td>1.07</td>\n",
       "      <td>2</td>\n",
       "    </tr>\n",
       "  </tbody>\n",
       "</table>\n",
       "</div>"
      ],
      "text/plain": [
       "      Timestamp  MaxCurrent  EffCurrent Time Period Standalone_Time  \\\n",
       "0  1.536129e+09       36.62        25.9           0               0   \n",
       "1  1.536129e+09       24.41        17.3        1.07               0   \n",
       "2  1.536129e+09       24.41        17.3        1.07            1.07   \n",
       "3  1.536129e+09       24.41        17.3        1.06            1.06   \n",
       "4  1.536129e+09       24.41        17.3        1.07            1.07   \n",
       "\n",
       "   PC Screen2  \n",
       "0           1  \n",
       "1           1  \n",
       "2           2  \n",
       "3           2  \n",
       "4           2  "
      ]
     },
     "execution_count": 66,
     "metadata": {},
     "output_type": "execute_result"
    }
   ],
   "source": [
    "train_pc2['Time Period']=''\n",
    "train_pc2['Standalone_Time']=''\n",
    "for index,row in train_pc2.iterrows():\n",
    "    if(index==0):\n",
    "        train_pc2['Standalone_Time'][0]=0\n",
    "        train_pc2['Time Period'][0]=0\n",
    "    elif(train_pc2['EffCurrent'][index-1]==train_pc2['EffCurrent'][index]):\n",
    "        train_pc2['Standalone_Time'][index]=round(train_pc2['Timestamp'][index]-train_pc2['Timestamp'][index-1],2)\n",
    "        train_pc2['Time Period'][index]=round(train_pc2['Timestamp'][index]-train_pc2['Timestamp'][index-1],2)\n",
    "    else:\n",
    "        train_pc2['Standalone_Time'][index]=0\n",
    "        train_pc2['Time Period'][index]=round(train_pc2['Timestamp'][index]-train_pc2['Timestamp'][index-1],2)\n",
    "\n",
    "        \n",
    "train_pc2['PC Screen2']=''\n",
    "train_pc2['EffCurrent_Diff'] = train_pc2['EffCurrent'].diff()\n",
    "train_pc2.loc[(train_pc2['EffCurrent_Diff']== 0), 'PC Screen2'] = 2\n",
    "train_pc2.loc[(train_pc2['EffCurrent_Diff']!= 0), 'PC Screen2'] = 1\n",
    "train_pc2.loc[(train_pc2['EffCurrent'] == 0), 'PC Screen2'] = 0\n",
    "train_pc2.drop('EffCurrent_Diff',axis=1,inplace=True)\n",
    "train_pc2.head()"
   ]
  },
  {
   "cell_type": "code",
   "execution_count": 51,
   "metadata": {},
   "outputs": [
    {
     "name": "stderr",
     "output_type": "stream",
     "text": [
      "C:\\ProgramData\\Anaconda3\\lib\\site-packages\\ipykernel_launcher.py:4: SettingWithCopyWarning: \n",
      "A value is trying to be set on a copy of a slice from a DataFrame\n",
      "\n",
      "See the caveats in the documentation: http://pandas.pydata.org/pandas-docs/stable/indexing.html#indexing-view-versus-copy\n",
      "  after removing the cwd from sys.path.\n",
      "C:\\ProgramData\\Anaconda3\\lib\\site-packages\\ipykernel_launcher.py:6: SettingWithCopyWarning: \n",
      "A value is trying to be set on a copy of a slice from a DataFrame\n",
      "\n",
      "See the caveats in the documentation: http://pandas.pydata.org/pandas-docs/stable/indexing.html#indexing-view-versus-copy\n",
      "  \n"
     ]
    },
    {
     "data": {
      "text/html": [
       "<div>\n",
       "<style scoped>\n",
       "    .dataframe tbody tr th:only-of-type {\n",
       "        vertical-align: middle;\n",
       "    }\n",
       "\n",
       "    .dataframe tbody tr th {\n",
       "        vertical-align: top;\n",
       "    }\n",
       "\n",
       "    .dataframe thead th {\n",
       "        text-align: right;\n",
       "    }\n",
       "</style>\n",
       "<table border=\"1\" class=\"dataframe\">\n",
       "  <thead>\n",
       "    <tr style=\"text-align: right;\">\n",
       "      <th></th>\n",
       "      <th>Timestamp</th>\n",
       "      <th>MaxCurrent</th>\n",
       "      <th>EffCurrent</th>\n",
       "      <th>Time Period</th>\n",
       "      <th>Temperature Sensor</th>\n",
       "    </tr>\n",
       "  </thead>\n",
       "  <tbody>\n",
       "    <tr>\n",
       "      <th>0</th>\n",
       "      <td>1.536129e+09</td>\n",
       "      <td>0.0</td>\n",
       "      <td>0.0</td>\n",
       "      <td>0</td>\n",
       "      <td>0</td>\n",
       "    </tr>\n",
       "    <tr>\n",
       "      <th>1</th>\n",
       "      <td>1.536129e+09</td>\n",
       "      <td>0.0</td>\n",
       "      <td>0.0</td>\n",
       "      <td>1.06</td>\n",
       "      <td>0</td>\n",
       "    </tr>\n",
       "    <tr>\n",
       "      <th>2</th>\n",
       "      <td>1.536129e+09</td>\n",
       "      <td>0.0</td>\n",
       "      <td>0.0</td>\n",
       "      <td>1.06</td>\n",
       "      <td>0</td>\n",
       "    </tr>\n",
       "    <tr>\n",
       "      <th>3</th>\n",
       "      <td>1.536129e+09</td>\n",
       "      <td>0.0</td>\n",
       "      <td>0.0</td>\n",
       "      <td>1.06</td>\n",
       "      <td>0</td>\n",
       "    </tr>\n",
       "    <tr>\n",
       "      <th>4</th>\n",
       "      <td>1.536129e+09</td>\n",
       "      <td>0.0</td>\n",
       "      <td>0.0</td>\n",
       "      <td>1.06</td>\n",
       "      <td>0</td>\n",
       "    </tr>\n",
       "  </tbody>\n",
       "</table>\n",
       "</div>"
      ],
      "text/plain": [
       "      Timestamp  MaxCurrent  EffCurrent Time Period  Temperature Sensor\n",
       "0  1.536129e+09         0.0         0.0           0                   0\n",
       "1  1.536129e+09         0.0         0.0        1.06                   0\n",
       "2  1.536129e+09         0.0         0.0        1.06                   0\n",
       "3  1.536129e+09         0.0         0.0        1.06                   0\n",
       "4  1.536129e+09         0.0         0.0        1.06                   0"
      ]
     },
     "execution_count": 51,
     "metadata": {},
     "output_type": "execute_result"
    }
   ],
   "source": [
    "train_sensor['Time Period']=''\n",
    "for index,row in train_sensor.iterrows():\n",
    "    if(index==0):\n",
    "        train_sensor['Time Period'][0]=0\n",
    "    else:\n",
    "        train_sensor['Time Period'][index]=round(train_sensor['Timestamp'][index]-train_sensor['Timestamp'][index-1],2)\n",
    "\n",
    "train_pc2['PC Screen2']=''\n",
    "train_sensor['EffCurrent_Diff'] = train_sensor['EffCurrent'].diff()\n",
    "train_sensor.loc[(train_sensor['EffCurrent_Diff']== 0), 'Temperature Sensor'] = 0\n",
    "train_sensor.loc[(train_sensor['EffCurrent_Diff']!= 0), 'Temperature Sensor'] = 1\n",
    "train_sensor.loc[(train_sensor['EffCurrent'] == 0), 'Temperature Sensor'] = 0\n",
    "train_sensor.drop('EffCurrent_Diff',axis=1,inplace=True)\n",
    "train_sensor.head()"
   ]
  },
  {
   "cell_type": "code",
   "execution_count": 11,
   "metadata": {},
   "outputs": [
    {
     "data": {
      "image/png": "[encoded data removed]",
      "text/plain": [
       "<Figure size 432x288 with 1 Axes>"
      ]
     },
     "metadata": {},
     "output_type": "display_data"
    },
    {
     "data": {
      "image/png": "[encoded data removed]",
      "text/plain": [
       "<Figure size 432x288 with 1 Axes>"
      ]
     },
     "metadata": {},
     "output_type": "display_data"
    },
    {
     "data": {
      "image/png": "[encoded data removed]",
      "text/plain": [
       "<Figure size 432x288 with 1 Axes>"
      ]
     },
     "metadata": {},
     "output_type": "display_data"
    }
   ],
   "source": [
    "linesPC1 = train_pc1.plot.line(x='Timestamp', y='PC Screen1',title='PC Screen 1')\n",
    "linesPC2 = train_pc2.plot.line(x='Timestamp', y='PC Screen2',title='PC Screen 2')\n",
    "linesSensor = train_sensor.plot.line(x='Timestamp', y='Temperature Sensor',title='Sensor')"
   ]
  },
  {
   "cell_type": "markdown",
   "metadata": {},
   "source": [
    "# Exploratory Analysis\n",
    "### 1. Checking for any missing values\n",
    "There are no missing values in the data."
   ]
  },
  {
   "cell_type": "code",
   "execution_count": 12,
   "metadata": {},
   "outputs": [
    {
     "name": "stdout",
     "output_type": "stream",
     "text": [
      "Series([], dtype: int64)\n",
      "Series([], dtype: int64)\n",
      "Series([], dtype: int64)\n"
     ]
    }
   ],
   "source": [
    "missing_values_pc1=train_pc1.isnull().sum()[train_pc1.isnull().sum() > 0]\n",
    "print(missing_values_pc1)\n",
    "missing_values_pc2=train_pc2.isnull().sum()[train_pc2.isnull().sum() > 0]\n",
    "print(missing_values_pc2)\n",
    "missing_values_sensor=train_sensor.isnull().sum()[train_sensor.isnull().sum() > 0]\n",
    "print(missing_values_sensor)"
   ]
  },
  {
   "cell_type": "code",
   "execution_count": 13,
   "metadata": {},
   "outputs": [
    {
     "data": {
      "image/png": "[encoded data removed]",
      "text/plain": [
       "<Figure size 720x216 with 3 Axes>"
      ]
     },
     "metadata": {},
     "output_type": "display_data"
    }
   ],
   "source": [
    "plt.figure(figsize=(10,3))\n",
    "x=train_pc1.groupby(['PC Screen1'])['Timestamp'].count()*100/len(train_pc1)\n",
    "x=x.reset_index()\n",
    "\n",
    "plt.subplot(131,aspect=1)\n",
    "plt.pie(x=x['Timestamp'],labels=x['PC Screen1'], autopct='%1.1f%%', shadow=True,explode=(0,0.3,0),startangle=90)\n",
    "plt.title(\"PC Screen 1 status\")\n",
    "\n",
    "plt.subplot(132,aspect=1)\n",
    "x=train_pc2.groupby(['PC Screen2'])['Timestamp'].count()*100/len(train_pc2)\n",
    "x=x.reset_index()\n",
    "plt.pie(x=x['Timestamp'],labels=x['PC Screen2'], autopct='%1.1f%%', shadow=True,explode=(0,0.3,0))\n",
    "\n",
    "plt.title(\"PC Screen 2 status\")\n",
    "\n",
    "plt.subplot(133,aspect=1)\n",
    "x=train_sensor.groupby(['Temperature Sensor'])['Timestamp'].count()*100/len(train_sensor)\n",
    "x=x.reset_index()\n",
    "plt.pie(x=x['Timestamp'],labels=x['Temperature Sensor'], autopct='%1.1f%%', shadow=True,explode=(0,0.3))\n",
    "\n",
    "plt.title(\"Temperature Sensor status\")\n",
    "\n",
    "plt.show()"
   ]
  },
  {
   "cell_type": "markdown",
   "metadata": {},
   "source": [
    "# Splitting into Train and test\n",
    "The splitted data must have similar distribution of all the classes."
   ]
  },
  {
   "cell_type": "code",
   "execution_count": 67,
   "metadata": {},
   "outputs": [],
   "source": [
    "train_data,validate=train_test_split(train_pc1,test_size=0.2)\n",
    "x_train_pc1 = pd.DataFrame(train_data.iloc[:,1:4])\n",
    "y_train_pc1=pd.DataFrame(train_data.iloc[:,-1])\n",
    "x_test_pc1 = pd.DataFrame(validate.iloc[:,1:4])\n",
    "y_test_pc1=pd.DataFrame(validate.iloc[:,-1])\n",
    "\n",
    "train_data,validate=train_test_split(train_pc2,test_size=0.2)\n",
    "x_train_pc2 = pd.DataFrame(train_data.iloc[:,1:4])\n",
    "y_train_pc2=pd.DataFrame(train_data.iloc[:,-1])\n",
    "x_test_pc2 = pd.DataFrame(validate.iloc[:,1:4])\n",
    "y_test_pc2=pd.DataFrame(validate.iloc[:,-1])\n",
    "\n",
    "train_data,validate=train_test_split(train_sensor,test_size=0.2)\n",
    "x_train_sensor = pd.DataFrame(train_data.iloc[:,1:4])\n",
    "y_train_sensor=pd.DataFrame(train_data.iloc[:,-1])\n",
    "x_test_sensor = pd.DataFrame(validate.iloc[:,1:4])\n",
    "y_test_sensor=pd.DataFrame(validate.iloc[:,-1])"
   ]
  },
  {
   "cell_type": "code",
   "execution_count": 53,
   "metadata": {},
   "outputs": [
    {
     "name": "stdout",
     "output_type": "stream",
     "text": [
      "2    61.111111\n",
      "0    20.370370\n",
      "1    18.518519\n",
      "Name: PC Screen1, dtype: float64\n",
      "2    43.902439\n",
      "1    29.268293\n",
      "0    26.829268\n",
      "Name: PC Screen1, dtype: float64\n",
      "    100.0\n",
      "Name: PC Screen2, dtype: float64\n",
      "    100.0\n",
      "Name: PC Screen2, dtype: float64\n",
      "1    53.953488\n",
      "0    46.046512\n",
      "Name: Temperature Sensor, dtype: float64\n",
      "1    53.703704\n",
      "0    46.296296\n",
      "Name: Temperature Sensor, dtype: float64\n"
     ]
    },
    {
     "data": {
      "text/html": [
       "<div>\n",
       "<style scoped>\n",
       "    .dataframe tbody tr th:only-of-type {\n",
       "        vertical-align: middle;\n",
       "    }\n",
       "\n",
       "    .dataframe tbody tr th {\n",
       "        vertical-align: top;\n",
       "    }\n",
       "\n",
       "    .dataframe thead th {\n",
       "        text-align: right;\n",
       "    }\n",
       "</style>\n",
       "<table border=\"1\" class=\"dataframe\">\n",
       "  <thead>\n",
       "    <tr style=\"text-align: right;\">\n",
       "      <th></th>\n",
       "      <th>MaxCurrent</th>\n",
       "      <th>EffCurrent</th>\n",
       "      <th>Time Period</th>\n",
       "    </tr>\n",
       "  </thead>\n",
       "  <tbody>\n",
       "    <tr>\n",
       "      <th>168</th>\n",
       "      <td>24.41</td>\n",
       "      <td>17.3</td>\n",
       "      <td>1.06</td>\n",
       "    </tr>\n",
       "    <tr>\n",
       "      <th>261</th>\n",
       "      <td>24.41</td>\n",
       "      <td>17.3</td>\n",
       "      <td>1.07</td>\n",
       "    </tr>\n",
       "    <tr>\n",
       "      <th>264</th>\n",
       "      <td>24.41</td>\n",
       "      <td>17.3</td>\n",
       "      <td>1.06</td>\n",
       "    </tr>\n",
       "    <tr>\n",
       "      <th>173</th>\n",
       "      <td>24.41</td>\n",
       "      <td>17.3</td>\n",
       "      <td>1.07</td>\n",
       "    </tr>\n",
       "    <tr>\n",
       "      <th>198</th>\n",
       "      <td>24.41</td>\n",
       "      <td>17.3</td>\n",
       "      <td>1.06</td>\n",
       "    </tr>\n",
       "  </tbody>\n",
       "</table>\n",
       "</div>"
      ],
      "text/plain": [
       "     MaxCurrent  EffCurrent Time Period\n",
       "168       24.41        17.3        1.06\n",
       "261       24.41        17.3        1.07\n",
       "264       24.41        17.3        1.06\n",
       "173       24.41        17.3        1.07\n",
       "198       24.41        17.3        1.06"
      ]
     },
     "execution_count": 53,
     "metadata": {},
     "output_type": "execute_result"
    }
   ],
   "source": [
    "print(y_train_pc1['PC Screen1'].value_counts()/len(y_train_pc1)*100)\n",
    "print(y_test_pc1['PC Screen1'].value_counts()/len(y_test_pc1)*100)\n",
    "print(y_train_pc2['PC Screen2'].value_counts()/len(y_train_pc2)*100)\n",
    "print(y_test_pc2['PC Screen2'].value_counts()/len(y_test_pc2)*100)\n",
    "print(y_train_sensor['Temperature Sensor'].value_counts()/len(y_train_sensor)*100)\n",
    "print(y_test_sensor['Temperature Sensor'].value_counts()/len(y_test_sensor)*100)\n",
    "x_train_sensor.head()"
   ]
  },
  {
   "cell_type": "markdown",
   "metadata": {},
   "source": [
    "# Model Application\n",
    "Various different models would be applied on the final dataset"
   ]
  },
  {
   "cell_type": "markdown",
   "metadata": {},
   "source": [
    "## Model Selection for PC Display 1"
   ]
  },
  {
   "cell_type": "code",
   "execution_count": 31,
   "metadata": {},
   "outputs": [
    {
     "name": "stdout",
     "output_type": "stream",
     "text": [
      "Logistic Regression\n",
      "With C=  1000  Score is: 0.8292682926829268\n",
      "Accuracy=  82.9 %\n",
      "Support Vector Machines\n",
      "Accuracy for C=  0.001  is=  0.7073170731707317\n",
      "Accuracy for C=  0.01  is=  0.6585365853658537\n"
     ]
    },
    {
     "name": "stderr",
     "output_type": "stream",
     "text": [
      "C:\\ProgramData\\Anaconda3\\lib\\site-packages\\sklearn\\utils\\validation.py:578: DataConversionWarning: A column-vector y was passed when a 1d array was expected. Please change the shape of y to (n_samples, ), for example using ravel().\n",
      "  y = column_or_1d(y, warn=True)\n",
      "C:\\ProgramData\\Anaconda3\\lib\\site-packages\\sklearn\\utils\\validation.py:578: DataConversionWarning: A column-vector y was passed when a 1d array was expected. Please change the shape of y to (n_samples, ), for example using ravel().\n",
      "  y = column_or_1d(y, warn=True)\n",
      "C:\\ProgramData\\Anaconda3\\lib\\site-packages\\sklearn\\utils\\validation.py:578: DataConversionWarning: A column-vector y was passed when a 1d array was expected. Please change the shape of y to (n_samples, ), for example using ravel().\n",
      "  y = column_or_1d(y, warn=True)\n",
      "C:\\ProgramData\\Anaconda3\\lib\\site-packages\\sklearn\\utils\\validation.py:578: DataConversionWarning: A column-vector y was passed when a 1d array was expected. Please change the shape of y to (n_samples, ), for example using ravel().\n",
      "  y = column_or_1d(y, warn=True)\n",
      "C:\\ProgramData\\Anaconda3\\lib\\site-packages\\sklearn\\utils\\validation.py:578: DataConversionWarning: A column-vector y was passed when a 1d array was expected. Please change the shape of y to (n_samples, ), for example using ravel().\n",
      "  y = column_or_1d(y, warn=True)\n",
      "C:\\ProgramData\\Anaconda3\\lib\\site-packages\\sklearn\\utils\\validation.py:578: DataConversionWarning: A column-vector y was passed when a 1d array was expected. Please change the shape of y to (n_samples, ), for example using ravel().\n",
      "  y = column_or_1d(y, warn=True)\n",
      "C:\\ProgramData\\Anaconda3\\lib\\site-packages\\sklearn\\utils\\validation.py:578: DataConversionWarning: A column-vector y was passed when a 1d array was expected. Please change the shape of y to (n_samples, ), for example using ravel().\n",
      "  y = column_or_1d(y, warn=True)\n",
      "C:\\ProgramData\\Anaconda3\\lib\\site-packages\\sklearn\\utils\\validation.py:578: DataConversionWarning: A column-vector y was passed when a 1d array was expected. Please change the shape of y to (n_samples, ), for example using ravel().\n",
      "  y = column_or_1d(y, warn=True)\n",
      "C:\\ProgramData\\Anaconda3\\lib\\site-packages\\sklearn\\utils\\validation.py:578: DataConversionWarning: A column-vector y was passed when a 1d array was expected. Please change the shape of y to (n_samples, ), for example using ravel().\n",
      "  y = column_or_1d(y, warn=True)\n",
      "C:\\ProgramData\\Anaconda3\\lib\\site-packages\\sklearn\\utils\\validation.py:578: DataConversionWarning: A column-vector y was passed when a 1d array was expected. Please change the shape of y to (n_samples, ), for example using ravel().\n",
      "  y = column_or_1d(y, warn=True)\n",
      "C:\\ProgramData\\Anaconda3\\lib\\site-packages\\sklearn\\utils\\validation.py:578: DataConversionWarning: A column-vector y was passed when a 1d array was expected. Please change the shape of y to (n_samples, ), for example using ravel().\n",
      "  y = column_or_1d(y, warn=True)\n"
     ]
    },
    {
     "name": "stdout",
     "output_type": "stream",
     "text": [
      "Accuracy for C=  0.1  is=  0.6585365853658537\n",
      "Accuracy for C=  1  is=  0.7073170731707317\n",
      "Accuracy for C=  10  is=  0.5121951219512195\n"
     ]
    },
    {
     "name": "stderr",
     "output_type": "stream",
     "text": [
      "C:\\ProgramData\\Anaconda3\\lib\\site-packages\\sklearn\\utils\\validation.py:578: DataConversionWarning: A column-vector y was passed when a 1d array was expected. Please change the shape of y to (n_samples, ), for example using ravel().\n",
      "  y = column_or_1d(y, warn=True)\n",
      "C:\\ProgramData\\Anaconda3\\lib\\site-packages\\sklearn\\utils\\validation.py:578: DataConversionWarning: A column-vector y was passed when a 1d array was expected. Please change the shape of y to (n_samples, ), for example using ravel().\n",
      "  y = column_or_1d(y, warn=True)\n",
      "C:\\ProgramData\\Anaconda3\\lib\\site-packages\\sklearn\\utils\\validation.py:578: DataConversionWarning: A column-vector y was passed when a 1d array was expected. Please change the shape of y to (n_samples, ), for example using ravel().\n",
      "  y = column_or_1d(y, warn=True)\n"
     ]
    },
    {
     "name": "stdout",
     "output_type": "stream",
     "text": [
      "Accuracy for C=  100  is=  0.7073170731707317\n",
      "Accuracy for C=  1000  is=  0.7073170731707317\n",
      "Accuracy=  70.7 %\n",
      "Bagging\n"
     ]
    },
    {
     "name": "stderr",
     "output_type": "stream",
     "text": [
      "C:\\ProgramData\\Anaconda3\\lib\\site-packages\\sklearn\\utils\\validation.py:578: DataConversionWarning: A column-vector y was passed when a 1d array was expected. Please change the shape of y to (n_samples, ), for example using ravel().\n",
      "  y = column_or_1d(y, warn=True)\n",
      "C:\\ProgramData\\Anaconda3\\lib\\site-packages\\sklearn\\utils\\validation.py:578: DataConversionWarning: A column-vector y was passed when a 1d array was expected. Please change the shape of y to (n_samples, ), for example using ravel().\n",
      "  y = column_or_1d(y, warn=True)\n",
      "C:\\ProgramData\\Anaconda3\\lib\\site-packages\\sklearn\\utils\\validation.py:578: DataConversionWarning: A column-vector y was passed when a 1d array was expected. Please change the shape of y to (n_samples, ), for example using ravel().\n",
      "  y = column_or_1d(y, warn=True)\n"
     ]
    },
    {
     "name": "stdout",
     "output_type": "stream",
     "text": [
      "Accuracy:  0.8780487804878049\n",
      "Boosting\n",
      "Accuracy:  0.9024390243902439\n",
      "AdaBoost\n"
     ]
    },
    {
     "name": "stderr",
     "output_type": "stream",
     "text": [
      "C:\\ProgramData\\Anaconda3\\lib\\site-packages\\ipykernel_launcher.py:52: DataConversionWarning: A column-vector y was passed when a 1d array was expected. Please change the shape of y to (n_samples,), for example using ravel().\n",
      "C:\\ProgramData\\Anaconda3\\lib\\site-packages\\sklearn\\ensemble\\forest.py:453: UserWarning: Some inputs do not have OOB scores. This probably means too few trees were used to compute any reliable oob estimates.\n",
      "  warn(\"Some inputs do not have OOB scores. \"\n",
      "C:\\ProgramData\\Anaconda3\\lib\\site-packages\\sklearn\\ensemble\\forest.py:458: RuntimeWarning: invalid value encountered in true_divide\n",
      "  predictions[k].sum(axis=1)[:, np.newaxis])\n",
      "C:\\ProgramData\\Anaconda3\\lib\\site-packages\\sklearn\\utils\\validation.py:578: DataConversionWarning: A column-vector y was passed when a 1d array was expected. Please change the shape of y to (n_samples, ), for example using ravel().\n",
      "  y = column_or_1d(y, warn=True)\n",
      "C:\\ProgramData\\Anaconda3\\lib\\site-packages\\sklearn\\utils\\validation.py:578: DataConversionWarning: A column-vector y was passed when a 1d array was expected. Please change the shape of y to (n_samples, ), for example using ravel().\n",
      "  y = column_or_1d(y, warn=True)\n"
     ]
    },
    {
     "name": "stdout",
     "output_type": "stream",
     "text": [
      "0.9024390243902439\n",
      "0.9024390243902439\n",
      "Gradient Boosting\n"
     ]
    },
    {
     "name": "stderr",
     "output_type": "stream",
     "text": [
      "C:\\ProgramData\\Anaconda3\\lib\\site-packages\\sklearn\\utils\\validation.py:578: DataConversionWarning: A column-vector y was passed when a 1d array was expected. Please change the shape of y to (n_samples, ), for example using ravel().\n",
      "  y = column_or_1d(y, warn=True)\n"
     ]
    },
    {
     "name": "stdout",
     "output_type": "stream",
     "text": [
      "Accuracy for Gradient Boosting:  0.9024390243902439\n",
      "Best Model is :  rforest\n"
     ]
    }
   ],
   "source": [
    "models={'logit':'','svm':'','bagging':'','rforest':'','adaboost':'','gboost':''}\n",
    "regularization=[0.001,0.01,0.1,1,10,100,1000]\n",
    "\n",
    "##Logistic Regression\n",
    "print(\"Logistic Regression\")\n",
    "scores=[]\n",
    "for c in regularization:\n",
    "    logit=linear_model.LogisticRegression(C=c)\n",
    "    logit.fit(x_train_pc1,y_train_pc1)\n",
    "    scores.append(logit.score(x_test_pc1, y_test_pc1))\n",
    "\n",
    "c=regularization[np.argmax(scores)]\n",
    "logit=linear_model.LogisticRegression(C=c)\n",
    "logit.fit(x_train_pc1,y_train_pc1)\n",
    "print(\"With C= \",c,\" Score is:\",logit.score(x_test_pc1, y_test_pc1))\n",
    "\n",
    "models['logit']=logit.score(x_test_pc1, y_test_pc1)\n",
    "y_pred=logit.predict(x_test_pc1)\n",
    "    \n",
    "labels = [0,1,2]\n",
    "print(\"Accuracy= \",round(logit.score(x_test_pc1,y_test_pc1)*100,1),\"%\")\n",
    "\n",
    "##Support Vector Machines\n",
    "print(\"Support Vector Machines\")\n",
    "scores=[]\n",
    "for c in regularization:\n",
    "    svc= svm.LinearSVC(C=c)\n",
    "    svc.fit(x_train_pc1,y_train_pc1)\n",
    "    print(\"Accuracy for C= \",c,\" is= \", svc.score(x_test_pc1,y_test_pc1))\n",
    "    scores.append(svc.score(x_test_pc1,y_test_pc1))\n",
    "\n",
    "c=regularization[np.argmax(scores)]\n",
    "svc=svm.LinearSVC(C=c)\n",
    "svc.fit(x_train_pc1,y_train_pc1)\n",
    "y_pred_svm=svc.predict(x_test_pc1)\n",
    "\n",
    "print(\"Accuracy= \",round(svc.score(x_test_pc1,y_test_pc1)*100,1),\"%\")\n",
    "    \n",
    "models['svm']=svc.score(x_test_pc1, y_test_pc1)\n",
    "\n",
    "\n",
    "#Bagging\n",
    "print(\"Bagging\")\n",
    "bagging = ensemble.BaggingClassifier(tree.DecisionTreeClassifier(max_depth=20,max_features=3), max_samples = 0.5, max_features = 3, oob_score = True, random_state = 2018)\n",
    "bagging.fit(x_train_pc1, y_train_pc1)\n",
    "print(\"Accuracy: \",bagging.score(x_test_pc1,y_test_pc1))\n",
    "models['bagging']=bagging.score(x_test_pc1, y_test_pc1)\n",
    "\n",
    "#Boosting with Random Forest\n",
    "print(\"Boosting with Randome Forest\")\n",
    "rforest = ensemble.RandomForestClassifier(max_features = 3, oob_score = True, random_state = 2018)\n",
    "rforest.fit(x_train_pc1, y_train_pc1)\n",
    "\n",
    "print(\"Accuracy: \",rforest.score(x_test_pc1,y_test_pc1))\n",
    "models['rforest']=rforest.score(x_test_pc1, y_test_pc1)\n",
    "\n",
    "#Adaboosting\n",
    "print(\"AdaBoost\")\n",
    "adaboost = [\n",
    "    ensemble.AdaBoostClassifier(tree.DecisionTreeClassifier(max_depth = 20), n_estimators = 50, algorithm ='SAMME', random_state = 2018),\n",
    "    ensemble.AdaBoostClassifier(tree.DecisionTreeClassifier(max_depth = 20), n_estimators = 50, algorithm ='SAMME.R', random_state = 2018)]\n",
    "\n",
    "for i in range(2):\n",
    "    adaboost[i].fit(x_train_pc1, y_train_pc1)\n",
    "\n",
    "scores=[]\n",
    "for i in range(2):\n",
    "    scores.append(adaboost[i].score(x_test_pc1, y_test_pc1))\n",
    "    print(adaboost[i].score(x_test_pc1, y_test_pc1))\n",
    "\n",
    "models['adaboost']=np.max(scores)\n",
    "\n",
    "#Gradient Boosting    \n",
    "print(\"Gradient Boosting\")\n",
    "gboost = ensemble.GradientBoostingClassifier(n_estimators = 50, random_state = 2018)\n",
    "gboost.fit(x_train_pc1, y_train_pc1)\n",
    "y_pred_gboost=gboost.predict(x_test_pc1)\n",
    "print(\"Accuracy for Gradient Boosting: \", metrics.accuracy_score(y_test_pc1,y_pred_gboost))\n",
    "\n",
    "models['gboost']=metrics.accuracy_score(y_test_pc1,y_pred_gboost)\n",
    "\n",
    "##Running the model on the test Data\n",
    "\n",
    "model=max(models,key=models.get)\n",
    "print(\"Best Model is : \",model)"
   ]
  },
  {
   "cell_type": "markdown",
   "metadata": {},
   "source": [
    "## Model Selection for PC Display 2 "
   ]
  },
  {
   "cell_type": "code",
   "execution_count": 37,
   "metadata": {},
   "outputs": [
    {
     "name": "stdout",
     "output_type": "stream",
     "text": [
      "Logistic Regression\n",
      "With C=  100  Score is: 0.6440677966101694\n",
      "Accuracy=  64.4 %\n",
      "Support Vector Machines\n",
      "Accuracy for C=  0.001  is=  0.6271186440677966\n"
     ]
    },
    {
     "name": "stderr",
     "output_type": "stream",
     "text": [
      "C:\\ProgramData\\Anaconda3\\lib\\site-packages\\sklearn\\utils\\validation.py:578: DataConversionWarning: A column-vector y was passed when a 1d array was expected. Please change the shape of y to (n_samples, ), for example using ravel().\n",
      "  y = column_or_1d(y, warn=True)\n",
      "C:\\ProgramData\\Anaconda3\\lib\\site-packages\\sklearn\\utils\\validation.py:578: DataConversionWarning: A column-vector y was passed when a 1d array was expected. Please change the shape of y to (n_samples, ), for example using ravel().\n",
      "  y = column_or_1d(y, warn=True)\n",
      "C:\\ProgramData\\Anaconda3\\lib\\site-packages\\sklearn\\utils\\validation.py:578: DataConversionWarning: A column-vector y was passed when a 1d array was expected. Please change the shape of y to (n_samples, ), for example using ravel().\n",
      "  y = column_or_1d(y, warn=True)\n",
      "C:\\ProgramData\\Anaconda3\\lib\\site-packages\\sklearn\\utils\\validation.py:578: DataConversionWarning: A column-vector y was passed when a 1d array was expected. Please change the shape of y to (n_samples, ), for example using ravel().\n",
      "  y = column_or_1d(y, warn=True)\n",
      "C:\\ProgramData\\Anaconda3\\lib\\site-packages\\sklearn\\utils\\validation.py:578: DataConversionWarning: A column-vector y was passed when a 1d array was expected. Please change the shape of y to (n_samples, ), for example using ravel().\n",
      "  y = column_or_1d(y, warn=True)\n",
      "C:\\ProgramData\\Anaconda3\\lib\\site-packages\\sklearn\\utils\\validation.py:578: DataConversionWarning: A column-vector y was passed when a 1d array was expected. Please change the shape of y to (n_samples, ), for example using ravel().\n",
      "  y = column_or_1d(y, warn=True)\n",
      "C:\\ProgramData\\Anaconda3\\lib\\site-packages\\sklearn\\utils\\validation.py:578: DataConversionWarning: A column-vector y was passed when a 1d array was expected. Please change the shape of y to (n_samples, ), for example using ravel().\n",
      "  y = column_or_1d(y, warn=True)\n",
      "C:\\ProgramData\\Anaconda3\\lib\\site-packages\\sklearn\\utils\\validation.py:578: DataConversionWarning: A column-vector y was passed when a 1d array was expected. Please change the shape of y to (n_samples, ), for example using ravel().\n",
      "  y = column_or_1d(y, warn=True)\n",
      "C:\\ProgramData\\Anaconda3\\lib\\site-packages\\sklearn\\utils\\validation.py:578: DataConversionWarning: A column-vector y was passed when a 1d array was expected. Please change the shape of y to (n_samples, ), for example using ravel().\n",
      "  y = column_or_1d(y, warn=True)\n",
      "C:\\ProgramData\\Anaconda3\\lib\\site-packages\\sklearn\\utils\\validation.py:578: DataConversionWarning: A column-vector y was passed when a 1d array was expected. Please change the shape of y to (n_samples, ), for example using ravel().\n",
      "  y = column_or_1d(y, warn=True)\n"
     ]
    },
    {
     "name": "stdout",
     "output_type": "stream",
     "text": [
      "Accuracy for C=  0.01  is=  0.6271186440677966\n",
      "Accuracy for C=  0.1  is=  0.6271186440677966\n",
      "Accuracy for C=  1  is=  0.711864406779661\n"
     ]
    },
    {
     "name": "stderr",
     "output_type": "stream",
     "text": [
      "C:\\ProgramData\\Anaconda3\\lib\\site-packages\\sklearn\\utils\\validation.py:578: DataConversionWarning: A column-vector y was passed when a 1d array was expected. Please change the shape of y to (n_samples, ), for example using ravel().\n",
      "  y = column_or_1d(y, warn=True)\n",
      "C:\\ProgramData\\Anaconda3\\lib\\site-packages\\sklearn\\utils\\validation.py:578: DataConversionWarning: A column-vector y was passed when a 1d array was expected. Please change the shape of y to (n_samples, ), for example using ravel().\n",
      "  y = column_or_1d(y, warn=True)\n",
      "C:\\ProgramData\\Anaconda3\\lib\\site-packages\\sklearn\\utils\\validation.py:578: DataConversionWarning: A column-vector y was passed when a 1d array was expected. Please change the shape of y to (n_samples, ), for example using ravel().\n",
      "  y = column_or_1d(y, warn=True)\n"
     ]
    },
    {
     "name": "stdout",
     "output_type": "stream",
     "text": [
      "Accuracy for C=  10  is=  0.7288135593220338\n",
      "Accuracy for C=  100  is=  0.6271186440677966\n",
      "Accuracy for C=  1000  is=  0.6271186440677966\n"
     ]
    },
    {
     "name": "stderr",
     "output_type": "stream",
     "text": [
      "C:\\ProgramData\\Anaconda3\\lib\\site-packages\\sklearn\\utils\\validation.py:578: DataConversionWarning: A column-vector y was passed when a 1d array was expected. Please change the shape of y to (n_samples, ), for example using ravel().\n",
      "  y = column_or_1d(y, warn=True)\n",
      "C:\\ProgramData\\Anaconda3\\lib\\site-packages\\sklearn\\utils\\validation.py:578: DataConversionWarning: A column-vector y was passed when a 1d array was expected. Please change the shape of y to (n_samples, ), for example using ravel().\n",
      "  y = column_or_1d(y, warn=True)\n",
      "C:\\ProgramData\\Anaconda3\\lib\\site-packages\\sklearn\\utils\\validation.py:578: DataConversionWarning: A column-vector y was passed when a 1d array was expected. Please change the shape of y to (n_samples, ), for example using ravel().\n",
      "  y = column_or_1d(y, warn=True)\n"
     ]
    },
    {
     "name": "stdout",
     "output_type": "stream",
     "text": [
      "Accuracy=  72.9 %\n",
      "Bagging\n",
      "Accuracy:  0.7288135593220338\n",
      "Boosting\n",
      "Accuracy:  0.7288135593220338\n",
      "AdaBoost\n"
     ]
    },
    {
     "name": "stderr",
     "output_type": "stream",
     "text": [
      "C:\\ProgramData\\Anaconda3\\lib\\site-packages\\sklearn\\utils\\validation.py:578: DataConversionWarning: A column-vector y was passed when a 1d array was expected. Please change the shape of y to (n_samples, ), for example using ravel().\n",
      "  y = column_or_1d(y, warn=True)\n",
      "C:\\ProgramData\\Anaconda3\\lib\\site-packages\\ipykernel_launcher.py:52: DataConversionWarning: A column-vector y was passed when a 1d array was expected. Please change the shape of y to (n_samples,), for example using ravel().\n",
      "C:\\ProgramData\\Anaconda3\\lib\\site-packages\\sklearn\\ensemble\\forest.py:453: UserWarning: Some inputs do not have OOB scores. This probably means too few trees were used to compute any reliable oob estimates.\n",
      "  warn(\"Some inputs do not have OOB scores. \"\n",
      "C:\\ProgramData\\Anaconda3\\lib\\site-packages\\sklearn\\ensemble\\forest.py:458: RuntimeWarning: invalid value encountered in true_divide\n",
      "  predictions[k].sum(axis=1)[:, np.newaxis])\n",
      "C:\\ProgramData\\Anaconda3\\lib\\site-packages\\sklearn\\utils\\validation.py:578: DataConversionWarning: A column-vector y was passed when a 1d array was expected. Please change the shape of y to (n_samples, ), for example using ravel().\n",
      "  y = column_or_1d(y, warn=True)\n",
      "C:\\ProgramData\\Anaconda3\\lib\\site-packages\\sklearn\\utils\\validation.py:578: DataConversionWarning: A column-vector y was passed when a 1d array was expected. Please change the shape of y to (n_samples, ), for example using ravel().\n",
      "  y = column_or_1d(y, warn=True)\n"
     ]
    },
    {
     "name": "stdout",
     "output_type": "stream",
     "text": [
      "0.7288135593220338\n",
      "0.7288135593220338\n",
      "Gradient Boosting\n"
     ]
    },
    {
     "name": "stderr",
     "output_type": "stream",
     "text": [
      "C:\\ProgramData\\Anaconda3\\lib\\site-packages\\sklearn\\utils\\validation.py:578: DataConversionWarning: A column-vector y was passed when a 1d array was expected. Please change the shape of y to (n_samples, ), for example using ravel().\n",
      "  y = column_or_1d(y, warn=True)\n"
     ]
    },
    {
     "name": "stdout",
     "output_type": "stream",
     "text": [
      "Accuracy for Gradient Boosting:  0.6440677966101694\n",
      "Best Model is :  svm\n"
     ]
    }
   ],
   "source": [
    "models={'logit':'','svm':'','bagging':'','rforest':'','adaboost':'','gboost':''}\n",
    "regularization=[0.001,0.01,0.1,1,10,100,1000]\n",
    "\n",
    "##Logistic Regression\n",
    "print(\"Logistic Regression\")\n",
    "scores=[]\n",
    "for c in regularization:\n",
    "    logit=linear_model.LogisticRegression(C=c)\n",
    "    logit.fit(x_train_pc2,y_train_pc2)\n",
    "    scores.append(logit.score(x_test_pc2, y_test_pc2))\n",
    "\n",
    "c=regularization[np.argmax(scores)]\n",
    "logit=linear_model.LogisticRegression(C=c)\n",
    "logit.fit(x_train_pc2,y_train_pc2)\n",
    "print(\"With C= \",c,\" Score is:\",logit.score(x_test_pc2, y_test_pc2))\n",
    "\n",
    "models['logit']=logit.score(x_test_pc2, y_test_pc2)\n",
    "y_pred=logit.predict(x_test_pc2)\n",
    "    \n",
    "labels = [0,1,2]\n",
    "print(\"Accuracy= \",round(logit.score(x_test_pc2,y_test_pc2)*100,1),\"%\")\n",
    "\n",
    "##Support Vector Machines\n",
    "print(\"Support Vector Machines\")\n",
    "scores=[]\n",
    "for c in regularization:\n",
    "    svc= svm.LinearSVC(C=c)\n",
    "    svc.fit(x_train_pc2,y_train_pc2)\n",
    "    print(\"Accuracy for C= \",c,\" is= \", svc.score(x_test_pc2,y_test_pc2))\n",
    "    scores.append(svc.score(x_test_pc2,y_test_pc2))\n",
    "\n",
    "c=regularization[np.argmax(scores)]\n",
    "svc=svm.LinearSVC(C=c)\n",
    "svc.fit(x_train_pc2,y_train_pc2)\n",
    "y_pred_svm=svc.predict(x_test_pc2)\n",
    "\n",
    "print(\"Accuracy= \",round(svc.score(x_test_pc2,y_test_pc2)*100,1),\"%\")\n",
    "    \n",
    "models['svm']=svc.score(x_test_pc2, y_test_pc2)\n",
    "\n",
    "\n",
    "#Bagging\n",
    "print(\"Bagging\")\n",
    "bagging = ensemble.BaggingClassifier(tree.DecisionTreeClassifier(max_depth=20,max_features=3), max_samples = 0.5, max_features = 3, oob_score = True, random_state = 2018)\n",
    "bagging.fit(x_train_pc2, y_train_pc2)\n",
    "print(\"Accuracy: \",bagging.score(x_test_pc2,y_test_pc2))\n",
    "models['bagging']=bagging.score(x_test_pc2, y_test_pc2)\n",
    "\n",
    "#Boosting with Random Forest\n",
    "print(\"Boosting\")\n",
    "rforest = ensemble.RandomForestClassifier(max_features = 3, oob_score = True, random_state = 2018)\n",
    "rforest.fit(x_train_pc2, y_train_pc2)\n",
    "\n",
    "print(\"Accuracy: \",rforest.score(x_test_pc2,y_test_pc2))\n",
    "models['rforest']=rforest.score(x_test_pc2, y_test_pc2)\n",
    "\n",
    "#Adaboosting\n",
    "print(\"AdaBoost\")\n",
    "adaboost = [\n",
    "    ensemble.AdaBoostClassifier(tree.DecisionTreeClassifier(max_depth = 20), n_estimators = 50, algorithm ='SAMME', random_state = 2018),\n",
    "    ensemble.AdaBoostClassifier(tree.DecisionTreeClassifier(max_depth = 20), n_estimators = 50, algorithm ='SAMME.R', random_state = 2018)]\n",
    "\n",
    "for i in range(2):\n",
    "    adaboost[i].fit(x_train_pc2, y_train_pc2)\n",
    "\n",
    "scores=[]\n",
    "for i in range(2):\n",
    "    scores.append(adaboost[i].score(x_test_pc2, y_test_pc2))\n",
    "    print(adaboost[i].score(x_test_pc2, y_test_pc2))\n",
    "\n",
    "models['adaboost']=np.max(scores)\n",
    "\n",
    "#Gradient Boosting    \n",
    "print(\"Gradient Boosting\")\n",
    "gboost = ensemble.GradientBoostingClassifier(n_estimators = 50, random_state = 2018)\n",
    "gboost.fit(x_train_pc2, y_train_pc2)\n",
    "y_pred_gboost=gboost.predict(x_test_pc2)\n",
    "print(\"Accuracy for Gradient Boosting: \", metrics.accuracy_score(y_test_pc2,y_pred_gboost))\n",
    "\n",
    "models['gboost']=metrics.accuracy_score(y_test_pc2,y_pred_gboost)\n",
    "\n",
    "##Running the model on the test Data\n",
    "\n",
    "model=max(models,key=models.get)\n",
    "print(\"Best Model is : \",model)"
   ]
  },
  {
   "cell_type": "markdown",
   "metadata": {},
   "source": [
    "## Model Selection for Temperature Sensor"
   ]
  },
  {
   "cell_type": "code",
   "execution_count": 54,
   "metadata": {},
   "outputs": [
    {
     "name": "stdout",
     "output_type": "stream",
     "text": [
      "Logistic Regression\n",
      "With C=  100  Score is: 0.7037037037037037\n",
      "Accuracy=  70.4 %\n",
      "Support Vector Machines\n",
      "Accuracy for C=  0.001  is=  0.6851851851851852\n",
      "Accuracy for C=  0.01  is=  0.6851851851851852\n",
      "Accuracy for C=  0.1  is=  0.6851851851851852\n",
      "Accuracy for C=  1  is=  0.6851851851851852\n"
     ]
    },
    {
     "name": "stderr",
     "output_type": "stream",
     "text": [
      "C:\\ProgramData\\Anaconda3\\lib\\site-packages\\sklearn\\utils\\validation.py:578: DataConversionWarning: A column-vector y was passed when a 1d array was expected. Please change the shape of y to (n_samples, ), for example using ravel().\n",
      "  y = column_or_1d(y, warn=True)\n",
      "C:\\ProgramData\\Anaconda3\\lib\\site-packages\\sklearn\\utils\\validation.py:578: DataConversionWarning: A column-vector y was passed when a 1d array was expected. Please change the shape of y to (n_samples, ), for example using ravel().\n",
      "  y = column_or_1d(y, warn=True)\n",
      "C:\\ProgramData\\Anaconda3\\lib\\site-packages\\sklearn\\utils\\validation.py:578: DataConversionWarning: A column-vector y was passed when a 1d array was expected. Please change the shape of y to (n_samples, ), for example using ravel().\n",
      "  y = column_or_1d(y, warn=True)\n",
      "C:\\ProgramData\\Anaconda3\\lib\\site-packages\\sklearn\\utils\\validation.py:578: DataConversionWarning: A column-vector y was passed when a 1d array was expected. Please change the shape of y to (n_samples, ), for example using ravel().\n",
      "  y = column_or_1d(y, warn=True)\n",
      "C:\\ProgramData\\Anaconda3\\lib\\site-packages\\sklearn\\utils\\validation.py:578: DataConversionWarning: A column-vector y was passed when a 1d array was expected. Please change the shape of y to (n_samples, ), for example using ravel().\n",
      "  y = column_or_1d(y, warn=True)\n",
      "C:\\ProgramData\\Anaconda3\\lib\\site-packages\\sklearn\\utils\\validation.py:578: DataConversionWarning: A column-vector y was passed when a 1d array was expected. Please change the shape of y to (n_samples, ), for example using ravel().\n",
      "  y = column_or_1d(y, warn=True)\n",
      "C:\\ProgramData\\Anaconda3\\lib\\site-packages\\sklearn\\utils\\validation.py:578: DataConversionWarning: A column-vector y was passed when a 1d array was expected. Please change the shape of y to (n_samples, ), for example using ravel().\n",
      "  y = column_or_1d(y, warn=True)\n",
      "C:\\ProgramData\\Anaconda3\\lib\\site-packages\\sklearn\\utils\\validation.py:578: DataConversionWarning: A column-vector y was passed when a 1d array was expected. Please change the shape of y to (n_samples, ), for example using ravel().\n",
      "  y = column_or_1d(y, warn=True)\n",
      "C:\\ProgramData\\Anaconda3\\lib\\site-packages\\sklearn\\utils\\validation.py:578: DataConversionWarning: A column-vector y was passed when a 1d array was expected. Please change the shape of y to (n_samples, ), for example using ravel().\n",
      "  y = column_or_1d(y, warn=True)\n",
      "C:\\ProgramData\\Anaconda3\\lib\\site-packages\\sklearn\\utils\\validation.py:578: DataConversionWarning: A column-vector y was passed when a 1d array was expected. Please change the shape of y to (n_samples, ), for example using ravel().\n",
      "  y = column_or_1d(y, warn=True)\n",
      "C:\\ProgramData\\Anaconda3\\lib\\site-packages\\sklearn\\utils\\validation.py:578: DataConversionWarning: A column-vector y was passed when a 1d array was expected. Please change the shape of y to (n_samples, ), for example using ravel().\n",
      "  y = column_or_1d(y, warn=True)\n",
      "C:\\ProgramData\\Anaconda3\\lib\\site-packages\\sklearn\\utils\\validation.py:578: DataConversionWarning: A column-vector y was passed when a 1d array was expected. Please change the shape of y to (n_samples, ), for example using ravel().\n",
      "  y = column_or_1d(y, warn=True)\n",
      "C:\\ProgramData\\Anaconda3\\lib\\site-packages\\sklearn\\utils\\validation.py:578: DataConversionWarning: A column-vector y was passed when a 1d array was expected. Please change the shape of y to (n_samples, ), for example using ravel().\n",
      "  y = column_or_1d(y, warn=True)\n"
     ]
    },
    {
     "name": "stdout",
     "output_type": "stream",
     "text": [
      "Accuracy for C=  10  is=  0.6851851851851852\n",
      "Accuracy for C=  100  is=  0.6851851851851852\n",
      "Accuracy for C=  1000  is=  0.6851851851851852\n",
      "Accuracy=  68.5 %\n",
      "Bagging\n",
      "Accuracy:  0.7037037037037037\n",
      "Boosting\n"
     ]
    },
    {
     "name": "stderr",
     "output_type": "stream",
     "text": [
      "C:\\ProgramData\\Anaconda3\\lib\\site-packages\\sklearn\\utils\\validation.py:578: DataConversionWarning: A column-vector y was passed when a 1d array was expected. Please change the shape of y to (n_samples, ), for example using ravel().\n",
      "  y = column_or_1d(y, warn=True)\n",
      "C:\\ProgramData\\Anaconda3\\lib\\site-packages\\sklearn\\utils\\validation.py:578: DataConversionWarning: A column-vector y was passed when a 1d array was expected. Please change the shape of y to (n_samples, ), for example using ravel().\n",
      "  y = column_or_1d(y, warn=True)\n",
      "C:\\ProgramData\\Anaconda3\\lib\\site-packages\\sklearn\\utils\\validation.py:578: DataConversionWarning: A column-vector y was passed when a 1d array was expected. Please change the shape of y to (n_samples, ), for example using ravel().\n",
      "  y = column_or_1d(y, warn=True)\n",
      "C:\\ProgramData\\Anaconda3\\lib\\site-packages\\sklearn\\utils\\validation.py:578: DataConversionWarning: A column-vector y was passed when a 1d array was expected. Please change the shape of y to (n_samples, ), for example using ravel().\n",
      "  y = column_or_1d(y, warn=True)\n",
      "C:\\ProgramData\\Anaconda3\\lib\\site-packages\\ipykernel_launcher.py:52: DataConversionWarning: A column-vector y was passed when a 1d array was expected. Please change the shape of y to (n_samples,), for example using ravel().\n",
      "C:\\ProgramData\\Anaconda3\\lib\\site-packages\\sklearn\\ensemble\\forest.py:453: UserWarning: Some inputs do not have OOB scores. This probably means too few trees were used to compute any reliable oob estimates.\n",
      "  warn(\"Some inputs do not have OOB scores. \"\n",
      "C:\\ProgramData\\Anaconda3\\lib\\site-packages\\sklearn\\ensemble\\forest.py:458: RuntimeWarning: invalid value encountered in true_divide\n",
      "  predictions[k].sum(axis=1)[:, np.newaxis])\n",
      "C:\\ProgramData\\Anaconda3\\lib\\site-packages\\sklearn\\utils\\validation.py:578: DataConversionWarning: A column-vector y was passed when a 1d array was expected. Please change the shape of y to (n_samples, ), for example using ravel().\n",
      "  y = column_or_1d(y, warn=True)\n"
     ]
    },
    {
     "name": "stdout",
     "output_type": "stream",
     "text": [
      "Accuracy:  0.6666666666666666\n",
      "AdaBoost\n"
     ]
    },
    {
     "name": "stderr",
     "output_type": "stream",
     "text": [
      "C:\\ProgramData\\Anaconda3\\lib\\site-packages\\sklearn\\utils\\validation.py:578: DataConversionWarning: A column-vector y was passed when a 1d array was expected. Please change the shape of y to (n_samples, ), for example using ravel().\n",
      "  y = column_or_1d(y, warn=True)\n"
     ]
    },
    {
     "name": "stdout",
     "output_type": "stream",
     "text": [
      "0.6666666666666666\n",
      "0.7037037037037037\n",
      "Gradient Boosting\n",
      "Accuracy for Gradient Boosting:  0.7037037037037037\n",
      "Best Model is :  logit\n"
     ]
    },
    {
     "name": "stderr",
     "output_type": "stream",
     "text": [
      "C:\\ProgramData\\Anaconda3\\lib\\site-packages\\sklearn\\utils\\validation.py:578: DataConversionWarning: A column-vector y was passed when a 1d array was expected. Please change the shape of y to (n_samples, ), for example using ravel().\n",
      "  y = column_or_1d(y, warn=True)\n"
     ]
    }
   ],
   "source": [
    "models={'logit':'','svm':'','bagging':'','rforest':'','adaboost':'','gboost':''}\n",
    "regularization=[0.001,0.01,0.1,1,10,100,1000]\n",
    "\n",
    "##Logistic Regression\n",
    "print(\"Logistic Regression\")\n",
    "scores=[]\n",
    "for c in regularization:\n",
    "    logit=linear_model.LogisticRegression(C=c)\n",
    "    logit.fit(x_train_sensor,y_train_sensor)\n",
    "    scores.append(logit.score(x_test_sensor, y_test_sensor))\n",
    "\n",
    "c=regularization[np.argmax(scores)]\n",
    "logit=linear_model.LogisticRegression(C=c)\n",
    "logit.fit(x_train_sensor,y_train_sensor)\n",
    "print(\"With C= \",c,\" Score is:\",logit.score(x_test_sensor, y_test_sensor))\n",
    "\n",
    "models['logit']=logit.score(x_test_sensor, y_test_sensor)\n",
    "y_pred=logit.predict(x_test_sensor)\n",
    "    \n",
    "labels = [0,1]\n",
    "print(\"Accuracy= \",round(logit.score(x_test_sensor,y_test_sensor)*100,1),\"%\")\n",
    "\n",
    "##Support Vector Machines\n",
    "print(\"Support Vector Machines\")\n",
    "scores=[]\n",
    "for c in regularization:\n",
    "    svc= svm.LinearSVC(C=c)\n",
    "    svc.fit(x_train_sensor,y_train_sensor)\n",
    "    print(\"Accuracy for C= \",c,\" is= \", svc.score(x_test_sensor,y_test_sensor))\n",
    "    scores.append(svc.score(x_test_sensor,y_test_sensor))\n",
    "\n",
    "c=regularization[np.argmax(scores)]\n",
    "svc=svm.LinearSVC(C=c)\n",
    "svc.fit(x_train_sensor,y_train_sensor)\n",
    "y_pred_svm=svc.predict(x_test_sensor)\n",
    "\n",
    "print(\"Accuracy= \",round(svc.score(x_test_sensor,y_test_sensor)*100,1),\"%\")\n",
    "    \n",
    "models['svm']=svc.score(x_test_sensor, y_test_sensor)\n",
    "\n",
    "\n",
    "#Bagging\n",
    "print(\"Bagging\")\n",
    "bagging = ensemble.BaggingClassifier(tree.DecisionTreeClassifier(max_depth=20,max_features=3), max_samples = 0.5, max_features = 3, oob_score = True, random_state = 2018)\n",
    "bagging.fit(x_train_sensor, y_train_sensor)\n",
    "print(\"Accuracy: \",bagging.score(x_test_sensor,y_test_sensor))\n",
    "models['bagging']=bagging.score(x_test_sensor, y_test_sensor)\n",
    "\n",
    "#Boosting with Random Forest\n",
    "print(\"Boosting\")\n",
    "rforest = ensemble.RandomForestClassifier(max_features = 3, oob_score = True, random_state = 2018)\n",
    "rforest.fit(x_train_sensor, y_train_sensor)\n",
    "\n",
    "print(\"Accuracy: \",rforest.score(x_test_sensor,y_test_sensor))\n",
    "models['rforest']=rforest.score(x_test_sensor, y_test_sensor)\n",
    "\n",
    "#Adaboosting\n",
    "print(\"AdaBoost\")\n",
    "adaboost = [\n",
    "    ensemble.AdaBoostClassifier(tree.DecisionTreeClassifier(max_depth = 20), n_estimators = 50, algorithm ='SAMME', random_state = 2018),\n",
    "    ensemble.AdaBoostClassifier(tree.DecisionTreeClassifier(max_depth = 20), n_estimators = 50, algorithm ='SAMME.R', random_state = 2018)]\n",
    "\n",
    "for i in range(2):\n",
    "    adaboost[i].fit(x_train_sensor, y_train_sensor)\n",
    "\n",
    "scores=[]\n",
    "for i in range(2):\n",
    "    scores.append(adaboost[i].score(x_test_sensor, y_test_sensor))\n",
    "    print(adaboost[i].score(x_test_sensor, y_test_sensor))\n",
    "\n",
    "models['adaboost']=np.max(scores)\n",
    "\n",
    "#Gradient Boosting    \n",
    "print(\"Gradient Boosting\")\n",
    "gboost = ensemble.GradientBoostingClassifier(n_estimators = 50, random_state = 2018)\n",
    "gboost.fit(x_train_sensor, y_train_sensor)\n",
    "y_pred_gboost=gboost.predict(x_test_sensor)\n",
    "print(\"Accuracy for Gradient Boosting: \", metrics.accuracy_score(y_test_sensor,y_pred_gboost))\n",
    "\n",
    "models['gboost']=metrics.accuracy_score(y_test_sensor,y_pred_gboost)\n",
    "\n",
    "##Running the model on the test Data\n",
    "\n",
    "model=max(models,key=models.get)\n",
    "print(\"Best Model is : \",model)"
   ]
  },
  {
   "cell_type": "code",
   "execution_count": 69,
   "metadata": {},
   "outputs": [
    {
     "name": "stderr",
     "output_type": "stream",
     "text": [
      "C:\\ProgramData\\Anaconda3\\lib\\site-packages\\ipykernel_launcher.py:2: DataConversionWarning: A column-vector y was passed when a 1d array was expected. Please change the shape of y to (n_samples,), for example using ravel().\n",
      "  \n",
      "C:\\ProgramData\\Anaconda3\\lib\\site-packages\\sklearn\\ensemble\\forest.py:453: UserWarning: Some inputs do not have OOB scores. This probably means too few trees were used to compute any reliable oob estimates.\n",
      "  warn(\"Some inputs do not have OOB scores. \"\n",
      "C:\\ProgramData\\Anaconda3\\lib\\site-packages\\sklearn\\ensemble\\forest.py:458: RuntimeWarning: invalid value encountered in true_divide\n",
      "  predictions[k].sum(axis=1)[:, np.newaxis])\n",
      "C:\\ProgramData\\Anaconda3\\lib\\site-packages\\sklearn\\utils\\validation.py:578: DataConversionWarning: A column-vector y was passed when a 1d array was expected. Please change the shape of y to (n_samples, ), for example using ravel().\n",
      "  y = column_or_1d(y, warn=True)\n",
      "C:\\ProgramData\\Anaconda3\\lib\\site-packages\\sklearn\\utils\\validation.py:578: DataConversionWarning: A column-vector y was passed when a 1d array was expected. Please change the shape of y to (n_samples, ), for example using ravel().\n",
      "  y = column_or_1d(y, warn=True)\n"
     ]
    },
    {
     "data": {
      "text/plain": [
       "LogisticRegression(C=100, class_weight=None, dual=False, fit_intercept=True,\n",
       "          intercept_scaling=1, max_iter=100, multi_class='ovr', n_jobs=1,\n",
       "          penalty='l2', random_state=None, solver='liblinear', tol=0.0001,\n",
       "          verbose=0, warm_start=False)"
      ]
     },
     "execution_count": 69,
     "metadata": {},
     "output_type": "execute_result"
    }
   ],
   "source": [
    "rforest = ensemble.RandomForestClassifier(max_features = 3, oob_score = True, random_state = 2018)\n",
    "rforest.fit(x_train_pc1, y_train_pc1)\n",
    "\n",
    "svc=svm.LinearSVC(C=10)\n",
    "svc.fit(x_train_pc2,y_train_pc2)\n",
    "\n",
    "logit=linear_model.LogisticRegression(C=100)\n",
    "logit.fit(x_train_sensor,y_train_sensor)"
   ]
  },
  {
   "cell_type": "code",
   "execution_count": 68,
   "metadata": {},
   "outputs": [
    {
     "data": {
      "text/plain": [
       "PC Screen2    3\n",
       "dtype: int64"
      ]
     },
     "execution_count": 68,
     "metadata": {},
     "output_type": "execute_result"
    }
   ],
   "source": [
    "y_train_pc2.nunique()"
   ]
  },
  {
   "cell_type": "markdown",
   "metadata": {},
   "source": [
    "# Test Data Preparation"
   ]
  },
  {
   "cell_type": "code",
   "execution_count": 55,
   "metadata": {},
   "outputs": [
    {
     "name": "stderr",
     "output_type": "stream",
     "text": [
      "C:\\ProgramData\\Anaconda3\\lib\\site-packages\\ipykernel_launcher.py:4: SettingWithCopyWarning: \n",
      "A value is trying to be set on a copy of a slice from a DataFrame\n",
      "\n",
      "See the caveats in the documentation: http://pandas.pydata.org/pandas-docs/stable/indexing.html#indexing-view-versus-copy\n",
      "  after removing the cwd from sys.path.\n",
      "C:\\ProgramData\\Anaconda3\\lib\\site-packages\\ipykernel_launcher.py:6: SettingWithCopyWarning: \n",
      "A value is trying to be set on a copy of a slice from a DataFrame\n",
      "\n",
      "See the caveats in the documentation: http://pandas.pydata.org/pandas-docs/stable/indexing.html#indexing-view-versus-copy\n",
      "  \n"
     ]
    }
   ],
   "source": [
    "test['Time Period']=''\n",
    "for index,row in test.iterrows():\n",
    "    if(index==0):\n",
    "        test['Time Period'][0]=0\n",
    "    else:\n",
    "        test['Time Period'][index]=round(test['Timestamp'][index]-test['Timestamp'][index-1],2)\n"
   ]
  },
  {
   "cell_type": "markdown",
   "metadata": {},
   "source": [
    "Assuming that the power supply to be parallel connection, the current is divided among all the three devices. \n",
    "Let's assume the resistances of the devices as:\n",
    "1. PC Supply 1 = 1000 ohm\n",
    "2. PC Supply 2 = 1200 ohm\n",
    "3. Temperature Sensor = 100 ohm\n",
    "So total "
   ]
  },
  {
   "cell_type": "code",
   "execution_count": 86,
   "metadata": {},
   "outputs": [
    {
     "data": {
      "text/html": [
       "<div>\n",
       "<style scoped>\n",
       "    .dataframe tbody tr th:only-of-type {\n",
       "        vertical-align: middle;\n",
       "    }\n",
       "\n",
       "    .dataframe tbody tr th {\n",
       "        vertical-align: top;\n",
       "    }\n",
       "\n",
       "    .dataframe thead th {\n",
       "        text-align: right;\n",
       "    }\n",
       "</style>\n",
       "<table border=\"1\" class=\"dataframe\">\n",
       "  <thead>\n",
       "    <tr style=\"text-align: right;\">\n",
       "      <th></th>\n",
       "      <th>Timestamp</th>\n",
       "      <th>MaxCurrent</th>\n",
       "      <th>EffCurrent</th>\n",
       "      <th>Time Period</th>\n",
       "      <th>PC Screen1</th>\n",
       "      <th>PC Screen2</th>\n",
       "      <th>Temperature Sensor</th>\n",
       "    </tr>\n",
       "  </thead>\n",
       "  <tbody>\n",
       "    <tr>\n",
       "      <th>0</th>\n",
       "      <td>1.536130e+09</td>\n",
       "      <td>24.41</td>\n",
       "      <td>17.3</td>\n",
       "      <td>0</td>\n",
       "      <td>2</td>\n",
       "      <td>1</td>\n",
       "      <td>0</td>\n",
       "    </tr>\n",
       "    <tr>\n",
       "      <th>1</th>\n",
       "      <td>1.536130e+09</td>\n",
       "      <td>12.21</td>\n",
       "      <td>8.6</td>\n",
       "      <td>1.06</td>\n",
       "      <td>2</td>\n",
       "      <td>0</td>\n",
       "      <td>1</td>\n",
       "    </tr>\n",
       "    <tr>\n",
       "      <th>2</th>\n",
       "      <td>1.536130e+09</td>\n",
       "      <td>36.62</td>\n",
       "      <td>25.9</td>\n",
       "      <td>1.07</td>\n",
       "      <td>2</td>\n",
       "      <td>2</td>\n",
       "      <td>1</td>\n",
       "    </tr>\n",
       "    <tr>\n",
       "      <th>3</th>\n",
       "      <td>1.536130e+09</td>\n",
       "      <td>24.41</td>\n",
       "      <td>17.3</td>\n",
       "      <td>1.07</td>\n",
       "      <td>1</td>\n",
       "      <td>2</td>\n",
       "      <td>0</td>\n",
       "    </tr>\n",
       "    <tr>\n",
       "      <th>4</th>\n",
       "      <td>1.536130e+09</td>\n",
       "      <td>36.62</td>\n",
       "      <td>25.9</td>\n",
       "      <td>1.07</td>\n",
       "      <td>2</td>\n",
       "      <td>2</td>\n",
       "      <td>1</td>\n",
       "    </tr>\n",
       "  </tbody>\n",
       "</table>\n",
       "</div>"
      ],
      "text/plain": [
       "      Timestamp  MaxCurrent  EffCurrent Time Period  PC Screen1  PC Screen2  \\\n",
       "0  1.536130e+09       24.41        17.3           0           2           1   \n",
       "1  1.536130e+09       12.21         8.6        1.06           2           0   \n",
       "2  1.536130e+09       36.62        25.9        1.07           2           2   \n",
       "3  1.536130e+09       24.41        17.3        1.07           1           2   \n",
       "4  1.536130e+09       36.62        25.9        1.07           2           2   \n",
       "\n",
       "   Temperature Sensor  \n",
       "0                   0  \n",
       "1                   1  \n",
       "2                   1  \n",
       "3                   0  \n",
       "4                   1  "
      ]
     },
     "execution_count": 86,
     "metadata": {},
     "output_type": "execute_result"
    }
   ],
   "source": [
    "test['PC Screen1']=''\n",
    "y_pc1_pred=rforest.predict(pd.DataFrame(test.iloc[:,1:4]))\n",
    "y_pc2_pred=svc.predict(pd.DataFrame(test.iloc[:,1:4]))\n",
    "y_sensor_pred=logit.predict(pd.DataFrame(test.iloc[:,1:4]))\n",
    "\n",
    "frame=pd.DataFrame(list(zip(y_pc1_pred,y_pc2_pred,y_sensor_pred)))\n",
    "frame.rename(columns={0:'PC Screen1',1:'PC Screen2',2:'Temperature Sensor'},inplace=True)\n",
    "test=pd.concat([test,frame],axis=1,sort=False)\n",
    "test.head()"
   ]
  },
  {
   "cell_type": "code",
   "execution_count": 90,
   "metadata": {},
   "outputs": [],
   "source": [
    "test.drop(columns={'Time Period'},inplace=True)\n",
    "test.replace(0,'OFF',inplace=True)\n",
    "test.replace(1,'ON',inplace=True)\n",
    "test.replace(2,'IDLE',inplace=True)\n",
    "test.head()\n",
    "test.to_csv(\"data/test_main.csv\")"
   ]
  }
 ],
 "metadata": {
  "kernelspec": {
   "display_name": "Python 3",
   "language": "python",
   "name": "python3"
  },
  "language_info": {
   "codemirror_mode": {
    "name": "ipython",
    "version": 3
   },
   "file_extension": ".py",
   "mimetype": "text/x-python",
   "name": "python",
   "nbconvert_exporter": "python",
   "pygments_lexer": "ipython3",
   "version": "3.6.5"
  }
 },
 "nbformat": 4,
 "nbformat_minor": 2
}
